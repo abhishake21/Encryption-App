{
 "cells": [
  {
   "cell_type": "markdown",
   "metadata": {},
   "source": [
    "## Importing libraries"
   ]
  },
  {
   "cell_type": "code",
   "execution_count": 1,
   "metadata": {},
   "outputs": [],
   "source": [
    "# Importing cryptography library\n",
    "from cryptography.fernet import Fernet\n",
    "from cryptography.hazmat.backends import default_backend\n",
    "from cryptography.hazmat.primitives import hashes\n",
    "from cryptography.hazmat.primitives.kdf.pbkdf2 import PBKDF2HMAC\n",
    "\n",
    "# Importing required libraries\n",
    "import os\n",
    "import base64\n",
    "import getpass\n",
    "from tqdm import tqdm"
   ]
  },
  {
   "cell_type": "code",
   "execution_count": null,
   "metadata": {},
   "outputs": [],
   "source": []
  },
  {
   "cell_type": "code",
   "execution_count": null,
   "metadata": {},
   "outputs": [],
   "source": []
  },
  {
   "cell_type": "markdown",
   "metadata": {},
   "source": [
    "## Menu"
   ]
  },
  {
   "cell_type": "code",
   "execution_count": 2,
   "metadata": {},
   "outputs": [],
   "source": [
    "def menu():\n",
    "    choice = input('\\n1. Encrypt a file\\n2. Decrypt a file\\n3. Encrypt a folder\\n4. Decrypt a folder\\n\\nType \"quit\" to exit.\\n\\n')\n",
    "\n",
    "    if choice == '1':\n",
    "        print('\\tTo Encrypt a file enter Password, Salt and file-location. Type \"menu\" to select different option or \"quit\" to exit.')\n",
    "        encfile()\n",
    "    elif choice == '2':\n",
    "        print('\\tTo Decrypt a file enter Password, Salt and file-location. Type \"menu\" to select different option or \"quit\" to exit.')\n",
    "        decfile()\n",
    "    elif choice == '3':\n",
    "        print('\\tTo Encrypt a folder enter Password, Salt and folder-location. Type \"menu\" to select different option or \"quit\" to exit.')\n",
    "        encfolder()\n",
    "    elif choice == '4':\n",
    "        print('\\tTo Decrypt a folder enter Password, Salt and folder-location. Type \"menu\" to select different option or \"quit\" to exit.')\n",
    "        decfolder()\n",
    "    elif choice == 'quit':\n",
    "        print('\\nProgram Ended.')\n",
    "    else:\n",
    "        print('\\nEnter below choices only')\n",
    "        menu()"
   ]
  },
  {
   "cell_type": "code",
   "execution_count": null,
   "metadata": {},
   "outputs": [],
   "source": []
  },
  {
   "cell_type": "code",
   "execution_count": null,
   "metadata": {},
   "outputs": [],
   "source": []
  },
  {
   "cell_type": "markdown",
   "metadata": {},
   "source": [
    "## os.walk() Error Handler funtions"
   ]
  },
  {
   "cell_type": "code",
   "execution_count": 3,
   "metadata": {},
   "outputs": [],
   "source": [
    "def enc_walk_error_handler(exception_instance):\n",
    "    print('\\n\\n\\tSomething went wrong.')\n",
    "    print('''\n",
    "    > Check if file location and name are correct.\n",
    "    Eg - D:/User/Secretfiles/\n",
    "\n",
    "    Type \"menu\" to select different option or \"quit\" to exit.\\n\n",
    "    ''')\n",
    "    encfolder()\n",
    "def dec_walk_error_handler(exception_instance):\n",
    "    print('\\n\\n\\tSomething went wrong.')\n",
    "    print('''\n",
    "    > Wrong Password and/or Salt entered.\n",
    "    > Check if folder location and name are correct.\n",
    "    Eg - D:/User/Secretfiles/\n",
    "\n",
    "    Type \"menu\" to select different option or \"quit\" to exit.\\n\n",
    "    ''')\n",
    "    decfolder()"
   ]
  },
  {
   "cell_type": "code",
   "execution_count": null,
   "metadata": {},
   "outputs": [],
   "source": []
  },
  {
   "cell_type": "code",
   "execution_count": null,
   "metadata": {},
   "outputs": [],
   "source": []
  },
  {
   "cell_type": "markdown",
   "metadata": {},
   "source": [
    "## Encrypting a file."
   ]
  },
  {
   "cell_type": "code",
   "execution_count": 4,
   "metadata": {},
   "outputs": [],
   "source": [
    "def encfile():\n",
    "\n",
    "    upassword = getpass.getpass('\\nEnter password - ')\n",
    "\n",
    "    if upassword == 'quit':\n",
    "        print('Program Ended.')\n",
    "    elif upassword == 'menu':\n",
    "        menu()\n",
    "    else:\n",
    "        usalt = getpass.getpass('Enter Salt(leave blank if not required) - ')\n",
    "\n",
    "        if usalt == 'quit':\n",
    "            print('\\nProgram Ended.')\n",
    "        elif usalt == 'menu':\n",
    "            menu()\n",
    "        else:\n",
    "            def enc():\n",
    "                fileln = input('Enter file locations(separated by comma) - ').split(',')\n",
    "                password=bytes(upassword,'utf-8')\n",
    "                salt=bytes(usalt,'utf-8')\n",
    "\n",
    "                try:\n",
    "                    kdf = PBKDF2HMAC(\n",
    "                        algorithm=hashes.SHA256(),\n",
    "                        length=32,\n",
    "                        salt=salt,\n",
    "                        iterations=100000,\n",
    "                        backend=default_backend())\n",
    "\n",
    "                    key = base64.urlsafe_b64encode(kdf.derive(password))\n",
    "                    f = Fernet(key)\n",
    "\n",
    "                    cnt = len(fileln)\n",
    "\n",
    "                    with tqdm(total=cnt) as pbar:\n",
    "                        for file in fileln:\n",
    "                            with open(file,'rb') as original_file:\n",
    "                                original = original_file.read()\n",
    "\n",
    "                            encrypted = f.encrypt(original)\n",
    "\n",
    "                            with open (file,'wb') as encrypted_file:\n",
    "                                encrypted_file.write(encrypted)\n",
    "                            pbar.update(1)\n",
    "\n",
    "                    print('\\nAll files are Encrypted.')\n",
    "\n",
    "                except:\n",
    "                    print('\\n\\tSomething went wrong.')\n",
    "                    print('''\n",
    "                    Check if file location and name are correct.\n",
    "                    Eg - D:/User/Secretfiles/secrets.txt\n",
    "\n",
    "                    Type \"menu\" to select different option or \"quit\" to exit.\\n\n",
    "                    ''')\n",
    "                    encfile()\n",
    "            enc()\n",
    "    menu()"
   ]
  },
  {
   "cell_type": "code",
   "execution_count": null,
   "metadata": {},
   "outputs": [],
   "source": []
  },
  {
   "cell_type": "code",
   "execution_count": null,
   "metadata": {},
   "outputs": [],
   "source": []
  },
  {
   "cell_type": "markdown",
   "metadata": {},
   "source": [
    "## Decrypting a file"
   ]
  },
  {
   "cell_type": "code",
   "execution_count": 5,
   "metadata": {},
   "outputs": [],
   "source": [
    "def decfile():\n",
    "\n",
    "    upassword = getpass.getpass('\\nEnter password - ')\n",
    "\n",
    "    if upassword == 'quit':\n",
    "        print('\\nProgram Ended.')\n",
    "    elif upassword == 'menu':\n",
    "        menu()\n",
    "    else:\n",
    "        usalt = getpass.getpass('Enter Salt(leave blank if not required) - ')\n",
    "\n",
    "        if usalt == 'quit':\n",
    "            print('\\nProgram Ended.')\n",
    "        elif usalt == 'menu':\n",
    "            menu()\n",
    "        else:\n",
    "            def dec():\n",
    "                fileln = input('Enter file locations(separated by comma) - ').split(',')\n",
    "                password=bytes(upassword,'utf-8')\n",
    "                salt=bytes(usalt,'utf-8')\n",
    "\n",
    "                try:\n",
    "                    kdf = PBKDF2HMAC(\n",
    "                        algorithm=hashes.SHA256(),\n",
    "                        length=32,\n",
    "                        salt=salt,\n",
    "                        iterations=100000,\n",
    "                        backend=default_backend())\n",
    "\n",
    "                    key = base64.urlsafe_b64encode(kdf.derive(password))\n",
    "                    f = Fernet(key)\n",
    "\n",
    "                    cnt = len(fileln)\n",
    "\n",
    "                    with tqdm(total=cnt) as pbar:\n",
    "                        for file in fileln:\n",
    "                            with open(file,'rb') as original_file:\n",
    "                                original = original_file.read()\n",
    "\n",
    "                            decrypted = f.decrypt(original)\n",
    "\n",
    "                            with open (file,'wb') as decrypted_file:\n",
    "                                decrypted_file.write(decrypted)\n",
    "                            pbar.update(1)\n",
    "                    print('\\nAll files are Decrypted.')\n",
    "\n",
    "\n",
    "                except:\n",
    "                    print('\\n\\tSomething went wrong.')\n",
    "                    print('''\n",
    "                    > Wrong Password and/or Salt entered.\n",
    "                    > Check if file location and name are correct.\n",
    "                    Eg - D:/User/Secretfiles/secrets.txt\n",
    "\n",
    "                    Type \"menu\" to select different option or \"quit\" to exit.\\n\n",
    "                    ''')\n",
    "                    decfile()\n",
    "            dec()\n",
    "    menu()"
   ]
  },
  {
   "cell_type": "code",
   "execution_count": null,
   "metadata": {},
   "outputs": [],
   "source": []
  },
  {
   "cell_type": "code",
   "execution_count": null,
   "metadata": {},
   "outputs": [],
   "source": []
  },
  {
   "cell_type": "markdown",
   "metadata": {},
   "source": [
    "# Encrypting a folder"
   ]
  },
  {
   "cell_type": "code",
   "execution_count": 6,
   "metadata": {},
   "outputs": [],
   "source": [
    "def encfolder():\n",
    "\n",
    "    upassword = getpass.getpass('\\nEnter password - ')\n",
    "\n",
    "    if upassword == 'quit':\n",
    "        print('\\nProgram Ended.')\n",
    "    elif upassword == 'menu':\n",
    "        menu()\n",
    "    else:\n",
    "        usalt = getpass.getpass('Enter Salt(leave blank if not required) - ')\n",
    "\n",
    "        if usalt == 'quit':\n",
    "            print('\\nProgram Ended.')\n",
    "        elif usalt == 'menu':\n",
    "            menu()\n",
    "        else:\n",
    "            def enc():\n",
    "                folderln = input('Enter folder location - ')\n",
    "                if folderln == 'quit':\n",
    "                    print('\\nProgram Ended.')\n",
    "                elif folderln == 'restart':\n",
    "                    encfolder()\n",
    "                else:\n",
    "                    password=bytes(upassword,'utf-8')\n",
    "                    salt=bytes(usalt,'utf-8')\n",
    "\n",
    "                    try:\n",
    "                        kdf = PBKDF2HMAC(\n",
    "                            algorithm=hashes.SHA256(),\n",
    "                            length=32,\n",
    "                            salt=salt,\n",
    "                            iterations=100000,\n",
    "                            backend=default_backend())\n",
    "\n",
    "                        key = base64.urlsafe_b64encode(kdf.derive(password))\n",
    "                        f = Fernet(key)\n",
    "\n",
    "                        cnt = sum([len(files) for r, d, files in os.walk(folderln)])\n",
    "\n",
    "                        with tqdm(total=cnt, position=0, leave=True) as pbar:\n",
    "                            for path, subdirs, files in os.walk(folderln, onerror=enc_walk_error_handler):\n",
    "                                if enc_walk_error_handler==True:\n",
    "                                    pass\n",
    "                                else:\n",
    "                                    for file in files:\n",
    "                                        with open(os.path.join(path,file),'rb') as original_file:\n",
    "                                            original = original_file.read()\n",
    "\n",
    "                                        encrypted = f.encrypt(original)\n",
    "\n",
    "                                        with open(os.path.join(path,file),'wb') as encrypted_file:\n",
    "                                            encrypted_file.write(encrypted)\n",
    "                                        pbar.update(1)\n",
    "\n",
    "                        print('\\nAll files and folders in '+folderln+' are Encrypted.')\n",
    "\n",
    "                    except:\n",
    "                        print('\\n\\tSomething went wrong.')\n",
    "                        print('''\n",
    "                        > Check if file location and name are correct.\n",
    "                        Eg - D:/User/Secretfiles/\n",
    "\n",
    "                        Type \"menu\" to select different option or \"quit\" to exit.\\n\n",
    "                        ''')\n",
    "                        encfolder()\n",
    "            enc()\n",
    "    menu()"
   ]
  },
  {
   "cell_type": "code",
   "execution_count": null,
   "metadata": {},
   "outputs": [],
   "source": []
  },
  {
   "cell_type": "code",
   "execution_count": null,
   "metadata": {},
   "outputs": [],
   "source": []
  },
  {
   "cell_type": "markdown",
   "metadata": {},
   "source": [
    "## Decrypting a folder"
   ]
  },
  {
   "cell_type": "code",
   "execution_count": 7,
   "metadata": {},
   "outputs": [],
   "source": [
    "def decfolder():\n",
    "\n",
    "    upassword = getpass.getpass('\\nEnter password - ')\n",
    "\n",
    "    if upassword == 'quit':\n",
    "        print('\\nProgram Ended.')\n",
    "    else:\n",
    "        usalt = getpass.getpass('Enter Salt(leave blank if not required) - ')\n",
    "\n",
    "        if usalt == 'quit':\n",
    "            print('\\nProgram Ended.')\n",
    "        else:\n",
    "            def dec():\n",
    "                folderln = input('Enter folder location - ')\n",
    "\n",
    "                if folderln == 'quit':\n",
    "                    print('\\nProgram Ended.')\n",
    "                elif folderln == 'restart':\n",
    "                    decfolder()\n",
    "                else:\n",
    "                    password=bytes(upassword,'utf-8')\n",
    "                    salt=bytes(usalt,'utf-8')\n",
    "\n",
    "                    try:\n",
    "                        kdf = PBKDF2HMAC(\n",
    "                            algorithm=hashes.SHA256(),\n",
    "                            length=32,\n",
    "                            salt=salt,\n",
    "                            iterations=100000,\n",
    "                            backend=default_backend())\n",
    "\n",
    "                        key = base64.urlsafe_b64encode(kdf.derive(password))\n",
    "                        f = Fernet(key)\n",
    "\n",
    "                        cnt = sum([len(files) for r, d, files in os.walk(folderln)])\n",
    "\n",
    "                        with tqdm(total=cnt, position=0, leave=True) as pbar:\n",
    "                            for path, subdirs, files in os.walk(folderln, onerror=dec_walk_error_handler):\n",
    "                                if dec_walk_error_handler==True:\n",
    "                                    pass\n",
    "                                else:\n",
    "                                    for file in files:\n",
    "                                        with open(os.path.join(path,file),'rb') as original_file:\n",
    "                                            original = original_file.read()\n",
    "\n",
    "                                        decrypted = f.decrypt(original)\n",
    "\n",
    "                                        with open(os.path.join(path,file),'wb') as decrypted_file:\n",
    "                                            decrypted_file.write(decrypted)\n",
    "                                        pbar.update(1)\n",
    "\n",
    "                        print('\\nAll files and folders in '+folderln+' are Decrypted.')\n",
    "\n",
    "                    except:\n",
    "                        print('\\n\\tSomething went wrong.')\n",
    "                        print('''\n",
    "                        > Wrong Password and/or Salt entered.\n",
    "                        > Check if folder location and name are correct.\n",
    "                        Eg - D:/User/Secretfiles/\n",
    "\n",
    "                        Type \"menu\" to select different option or \"quit\" to exit.\\n\n",
    "                        ''')\n",
    "                        decfolder()\n",
    "            dec()\n",
    "    menu()"
   ]
  },
  {
   "cell_type": "code",
   "execution_count": null,
   "metadata": {},
   "outputs": [],
   "source": []
  },
  {
   "cell_type": "code",
   "execution_count": null,
   "metadata": {},
   "outputs": [],
   "source": []
  },
  {
   "cell_type": "markdown",
   "metadata": {},
   "source": [
    "## Main app"
   ]
  },
  {
   "cell_type": "code",
   "execution_count": 8,
   "metadata": {},
   "outputs": [
    {
     "name": "stdout",
     "output_type": "stream",
     "text": [
      "\n",
      "1. Encrypt a file\n",
      "2. Decrypt a file\n",
      "3. Encrypt a folder\n",
      "4. Decrypt a folder\n",
      "\n",
      "Type \"quit\" to exit.\n",
      "\n",
      "quit\n",
      "\n",
      "Program Ended.\n"
     ]
    }
   ],
   "source": [
    "menu()"
   ]
  },
  {
   "cell_type": "code",
   "execution_count": null,
   "metadata": {},
   "outputs": [],
   "source": []
  }
 ],
 "metadata": {
  "kernelspec": {
   "display_name": "Python 3",
   "language": "python",
   "name": "python3"
  },
  "language_info": {
   "codemirror_mode": {
    "name": "ipython",
    "version": 3
   },
   "file_extension": ".py",
   "mimetype": "text/x-python",
   "name": "python",
   "nbconvert_exporter": "python",
   "pygments_lexer": "ipython3",
   "version": "3.8.5"
  }
 },
 "nbformat": 4,
 "nbformat_minor": 4
}
